{
 "cells": [
  {
   "cell_type": "markdown",
   "metadata": {},
   "source": [
    "# Install MinIO in cluster"
   ]
  },
  {
   "cell_type": "markdown",
   "metadata": {},
   "source": [
    "## Helm install minio"
   ]
  },
  {
   "cell_type": "code",
   "execution_count": null,
   "metadata": {
    "id": "ecd14dec-1407-4a39-894a-b72af606d339"
   },
   "outputs": [],
   "source": [
    "%%bash\n",
    "kubectl create ns minio-system\n",
    "helm repo add minio https://helm.min.io/\n",
    "helm install minio minio/minio \\\n",
    "    --set accessKey=minioadmin \\\n",
    "    --set secretKey=minioadmin \\\n",
    "    --namespace minio-system"
   ]
  },
  {
   "cell_type": "code",
   "execution_count": null,
   "metadata": {
    "id": "62061c16-9413-450a-82c2-1ec2a8cb1f0d"
   },
   "outputs": [],
   "source": [
    "!kubectl rollout status deployment -n minio-system minio"
   ]
  },
  {
   "cell_type": "markdown",
   "metadata": {},
   "source": [
    "## port-forward Minio to localhost\n",
    "\n",
    "in separate terminal:\n",
    "\n",
    "```bash\n",
    "kubectl port-forward -n minio-system svc/minio 8090:9000\n",
    "```\n",
    "\n",
    "or follow instructions printed by helm"
   ]
  },
  {
   "cell_type": "markdown",
   "metadata": {},
   "source": [
    "## Install MinIO CLI client tool"
   ]
  },
  {
   "cell_type": "markdown",
   "metadata": {},
   "source": [
    "Install minio using `go get`:"
   ]
  },
  {
   "cell_type": "code",
   "execution_count": null,
   "metadata": {
    "id": "9fe48cf9-068c-4a5e-8dbc-a0cc3ae83e81"
   },
   "outputs": [],
   "source": [
    "%%bash\n",
    "GO111MODULE=on go get github.com/minio/mc"
   ]
  },
  {
   "cell_type": "markdown",
   "metadata": {},
   "source": [
    "Or follow steps relevant to your platform from official [documentation](https://docs.min.io/docs/minio-client-quickstart-guide.html)."
   ]
  },
  {
   "cell_type": "markdown",
   "metadata": {},
   "source": [
    "## Configure mc client to talk to your cluster"
   ]
  },
  {
   "cell_type": "code",
   "execution_count": null,
   "metadata": {
    "id": "1276753b-80b6-4fbf-9d9d-c6bbcae77647"
   },
   "outputs": [],
   "source": [
    "%%bash\n",
    "mc config host add minio-seldon http://localhost:8090 minioadmin minioadmin"
   ]
  }
 ],
 "metadata": {
  "kernelspec": {
   "display_name": "Python 3",
   "language": "python",
   "name": "python3"
  },
  "language_info": {
   "codemirror_mode": {
    "name": "ipython",
    "version": 3
   },
   "file_extension": ".py",
   "mimetype": "text/x-python",
   "name": "python",
   "nbconvert_exporter": "python",
   "pygments_lexer": "ipython3",
   "version": "3.8.3"
  }
 },
 "nbformat": 4,
 "nbformat_minor": 4
}
