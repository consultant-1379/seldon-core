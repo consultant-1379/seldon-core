{
 "cells": [
  {
   "cell_type": "markdown",
   "metadata": {},
   "source": [
    "# Multiple Seldon Core Operators\n",
    "\n",
    "This notebook illustrate how multiple Seldon Core Operators can share the same cluster. In particular:\n",
    "\n",
    "  * A Namespaced Operator that only manages Seldon Deployments inside its namespace. Only needs Role RBAC and Namespace labeled with `seldon.io/controller-id`\n",
    "  * A Clusterwide Operator that manges SeldonDeployment with a matching `seldon.io/controller-id` label.\n",
    "  * A Clusterwide Operator that manages Seldon Deployments not handled by the above."
   ]
  },
  {
   "cell_type": "markdown",
   "metadata": {},
   "source": [
    "## Setup Seldon Core\n",
    "\n",
    "Use the setup notebook to [Setup Cluster](https://docs.seldon.io/projects/seldon-core/en/latest/examples/seldon_core_setup.html#Setup-Cluster) with [Ambassador Ingress](https://docs.seldon.io/projects/seldon-core/en/latest/examples/seldon_core_setup.html#Ambassador) and [Install Seldon Core](https://docs.seldon.io/projects/seldon-core/en/latest/examples/seldon_core_setup.html#Install-Seldon-Core). Instructions [also online](https://docs.seldon.io/projects/seldon-core/en/latest/examples/seldon_core_setup.html)."
   ]
  },
  {
   "cell_type": "markdown",
   "metadata": {},
   "source": [
    "## Namespaced Seldon Core Operator"
   ]
  },
  {
   "cell_type": "code",
   "execution_count": null,
   "metadata": {
    "id": "c29c4b43-32a2-4a64-9358-eb4c514e0fec"
   },
   "outputs": [],
   "source": [
    "!kubectl create namespace seldon-ns1"
   ]
  },
  {
   "cell_type": "code",
   "execution_count": null,
   "metadata": {
    "id": "c5066e33-6343-48e1-8596-aa750e4f80cf"
   },
   "outputs": [],
   "source": [
    "!kubectl label namespace seldon-ns1 seldon.io/controller-id=seldon-ns1"
   ]
  },
  {
   "cell_type": "code",
   "execution_count": null,
   "metadata": {
    "id": "32892697-49a3-4f56-98fa-a36336bcdb6b"
   },
   "outputs": [],
   "source": [
    "!helm install seldon-namespaced  ../helm-charts/seldon-core-operator  \\\n",
    "    --set singleNamespace=true \\\n",
    "    --set image.pullPolicy=IfNotPresent \\\n",
    "    --set usageMetrics.enabled=false \\\n",
    "    --set crd.create=false \\\n",
    "    --namespace seldon-ns1 \\\n",
    "    --wait"
   ]
  },
  {
   "cell_type": "code",
   "execution_count": null,
   "metadata": {
    "id": "9214ab5b-cd78-4f48-98be-9efa7f70a3c7"
   },
   "outputs": [],
   "source": [
    "!kubectl rollout status deployment/seldon-controller-manager -n seldon-ns1"
   ]
  },
  {
   "cell_type": "code",
   "execution_count": null,
   "metadata": {
    "id": "6424d488-31d9-4e06-912d-93af23df1267"
   },
   "outputs": [],
   "source": [
    "!kubectl create -f resources/model.yaml -n seldon-ns1"
   ]
  },
  {
   "cell_type": "code",
   "execution_count": null,
   "metadata": {
    "id": "cf6cb1b4-96bc-4240-9895-25bf15d26a01"
   },
   "outputs": [],
   "source": [
    "!kubectl rollout status deployment/seldon-model-example-0-classifier -n seldon-ns1"
   ]
  },
  {
   "cell_type": "code",
   "execution_count": null,
   "metadata": {
    "id": "33104e0c-f1e1-4e84-b07a-e1afd4a08070"
   },
   "outputs": [],
   "source": [
    "!kubectl get sdep -n seldon-ns1"
   ]
  },
  {
   "cell_type": "code",
   "execution_count": null,
   "metadata": {
    "id": "5ef9ab85-aa7c-401c-afa8-f861dd131f5b"
   },
   "outputs": [],
   "source": [
    "NAME = !kubectl get sdep -n seldon-ns1 -o jsonpath='{.items[0].metadata.name}'\n",
    "assert NAME[0] == \"seldon-model\""
   ]
  },
  {
   "cell_type": "code",
   "execution_count": null,
   "metadata": {
    "id": "8f0aec63-8c34-4798-93dc-ff49751c9fe5"
   },
   "outputs": [],
   "source": [
    "!kubectl config set-context $(kubectl config current-context) --namespace=seldon-ns1"
   ]
  },
  {
   "cell_type": "code",
   "execution_count": null,
   "metadata": {
    "id": "716d2911-0bec-4bac-b03e-e38842cffad5"
   },
   "outputs": [],
   "source": [
    "!kubectl delete -f resources/model.yaml -n seldon-ns1"
   ]
  },
  {
   "cell_type": "code",
   "execution_count": null,
   "metadata": {
    "id": "fec058bb-86f8-40aa-b429-92bc3193e374"
   },
   "outputs": [],
   "source": [
    "!helm delete seldon-namespaced"
   ]
  },
  {
   "cell_type": "markdown",
   "metadata": {},
   "source": [
    "## Label Focused Seldon Core Operator\n",
    "\n",
    " * We set `crd.create=false` as the CRD already exists in the cluster.\n",
    " * We set `controllerId=seldon-id1`. SeldonDeployments with this label will be managed."
   ]
  },
  {
   "cell_type": "code",
   "execution_count": null,
   "metadata": {
    "id": "8a8c5e83-a203-4308-a0b3-da31e88ed8f1"
   },
   "outputs": [],
   "source": [
    "!kubectl create namespace seldon-id1"
   ]
  },
  {
   "cell_type": "code",
   "execution_count": null,
   "metadata": {
    "id": "ce3e0882-921a-4641-a0f7-5808777647ea"
   },
   "outputs": [],
   "source": [
    "!helm install seldon-controllerid  ../helm-charts/seldon-core-operator  \\\n",
    "    --set singleNamespace=false \\\n",
    "    --set image.pullPolicy=IfNotPresent \\\n",
    "    --set usageMetrics.enabled=false \\\n",
    "    --set crd.create=false \\\n",
    "    --set controllerId=seldon-id1 \\\n",
    "    --namespace seldon-id1 \\\n",
    "    --wait"
   ]
  },
  {
   "cell_type": "code",
   "execution_count": null,
   "metadata": {
    "id": "45e8b1cc-862e-4c48-b1aa-24d41b8cb0e1"
   },
   "outputs": [],
   "source": [
    "!kubectl rollout status deployment/seldon-controller-manager -n seldon-id1"
   ]
  },
  {
   "cell_type": "code",
   "execution_count": null,
   "metadata": {
    "id": "e3d3fc8d-c7c6-475f-8b70-5c5d90de5594"
   },
   "outputs": [],
   "source": [
    "!pygmentize resources/model_controller_id.yaml"
   ]
  },
  {
   "cell_type": "code",
   "execution_count": null,
   "metadata": {
    "id": "39aa7199-63fd-426c-97be-a0911e3a62a5"
   },
   "outputs": [],
   "source": [
    "!kubectl create -f resources/model_controller_id.yaml -n default"
   ]
  },
  {
   "cell_type": "code",
   "execution_count": null,
   "metadata": {
    "id": "f7997814-d5dc-4c69-a6da-37a1f9a414f7"
   },
   "outputs": [],
   "source": [
    "!kubectl rollout status deployment/test-c1-example-0-classifier -n default"
   ]
  },
  {
   "cell_type": "code",
   "execution_count": null,
   "metadata": {
    "id": "73c25fc0-2756-400e-8d20-8d52e96ea620"
   },
   "outputs": [],
   "source": [
    "!kubectl get sdep -n default"
   ]
  },
  {
   "cell_type": "code",
   "execution_count": null,
   "metadata": {
    "id": "9ecd7a54-3138-462e-b8a3-dcd93d32d5f0"
   },
   "outputs": [],
   "source": [
    "NAME = !kubectl get sdep -n default -o jsonpath='{.items[0].metadata.name}'\n",
    "assert NAME[0] == \"test-c1\""
   ]
  },
  {
   "cell_type": "code",
   "execution_count": null,
   "metadata": {
    "id": "5f50120f-cd8d-4afd-acdb-7d98ad141368"
   },
   "outputs": [],
   "source": [
    "!kubectl config set-context $(kubectl config current-context) --namespace=seldon-id1"
   ]
  },
  {
   "cell_type": "code",
   "execution_count": null,
   "metadata": {
    "id": "b3bbaa3c-69d2-4fc7-9a4d-65b52e1b2827"
   },
   "outputs": [],
   "source": [
    "!kubectl delete -f resources/model_controller_id.yaml -n default"
   ]
  },
  {
   "cell_type": "code",
   "execution_count": null,
   "metadata": {
    "id": "ca805696-4e52-4767-be23-58a1803fb2c6"
   },
   "outputs": [],
   "source": [
    "!helm delete seldon-controllerid"
   ]
  }
 ],
 "metadata": {
  "kernelspec": {
   "display_name": "Python 3",
   "language": "python",
   "name": "python3"
  },
  "language_info": {
   "codemirror_mode": {
    "name": "ipython",
    "version": 3
   },
   "file_extension": ".py",
   "mimetype": "text/x-python",
   "name": "python",
   "nbconvert_exporter": "python",
   "pygments_lexer": "ipython3",
   "version": "3.7.4"
  }
 },
 "nbformat": 4,
 "nbformat_minor": 2
}
