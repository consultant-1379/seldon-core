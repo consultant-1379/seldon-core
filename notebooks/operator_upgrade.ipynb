{
 "cells": [
  {
   "cell_type": "markdown",
   "metadata": {},
   "source": [
    "# Operator Upgrade Tests"
   ]
  },
  {
   "cell_type": "markdown",
   "metadata": {},
   "source": [
    "## Setup Seldon Core\n",
    "\n",
    "Follow the instructions to [Setup Cluster](https://docs.seldon.io/projects/seldon-core/en/latest/examples/seldon_core_setup.html#Setup-Cluster) with [Ambassador Ingress](https://docs.seldon.io/projects/seldon-core/en/latest/examples/seldon_core_setup.html#Ambassador) and [Install Seldon Core](https://docs.seldon.io/projects/seldon-core/en/latest/examples/seldon_core_setup.html#Install-Seldon-Core)."
   ]
  },
  {
   "cell_type": "code",
   "execution_count": null,
   "metadata": {
    "id": "c4f03512-348f-46e8-abd3-a82361512e5d"
   },
   "outputs": [],
   "source": [
    "!kubectl create namespace seldon"
   ]
  },
  {
   "cell_type": "code",
   "execution_count": null,
   "metadata": {
    "id": "3c94490e-9304-4a05-a3ea-1d12a2a748ed"
   },
   "outputs": [],
   "source": [
    "!kubectl config set-context $(kubectl config current-context) --namespace=seldon"
   ]
  },
  {
   "cell_type": "code",
   "execution_count": null,
   "metadata": {
    "id": "e868d1e8-212b-45cc-a86e-d95213e3aed4"
   },
   "outputs": [],
   "source": [
    "import json\n",
    "import time"
   ]
  },
  {
   "cell_type": "markdown",
   "metadata": {},
   "source": [
    "## Install Stable Version"
   ]
  },
  {
   "cell_type": "code",
   "execution_count": null,
   "metadata": {
    "id": "975a757c-b734-44d7-a9b7-e4f14cdbf4f1"
   },
   "outputs": [],
   "source": [
    "!kubectl create namespace seldon-system"
   ]
  },
  {
   "cell_type": "code",
   "execution_count": null,
   "metadata": {
    "id": "1120be73-92b0-468b-9e1e-09b9bbf7622d"
   },
   "outputs": [],
   "source": [
    "!helm upgrade seldon seldon-core-operator --repo https://storage.googleapis.com/seldon-charts --namespace seldon-system --set istio.enabled=true --wait"
   ]
  },
  {
   "cell_type": "markdown",
   "metadata": {},
   "source": [
    "## Launch a Range of Models"
   ]
  },
  {
   "cell_type": "code",
   "execution_count": null,
   "metadata": {
    "id": "ee7d0736-1ad8-4cf3-9251-d0dc64a70139"
   },
   "outputs": [],
   "source": [
    "%%writefile resources/model.yaml\n",
    "apiVersion: machinelearning.seldon.io/v1\n",
    "kind: SeldonDeployment\n",
    "metadata:\n",
    "  name: seldon-model\n",
    "spec:\n",
    "  name: test-deployment\n",
    "  predictors:\n",
    "  - componentSpecs:\n",
    "    - spec:\n",
    "        containers:\n",
    "        - image: seldonio/mock_classifier:1.9.1\n",
    "          name: classifier\n",
    "    graph:\n",
    "      name: classifier\n",
    "      type: MODEL\n",
    "      endpoint:\n",
    "        type: REST\n",
    "    name: example\n",
    "    replicas: 1"
   ]
  },
  {
   "cell_type": "code",
   "execution_count": null,
   "metadata": {
    "id": "faf239c5-ed02-4d46-95aa-15bb82258f62"
   },
   "outputs": [],
   "source": [
    "!kubectl create -f resources/model.yaml"
   ]
  },
  {
   "cell_type": "code",
   "execution_count": null,
   "metadata": {
    "id": "afe533c4-7b1e-4fe8-a880-cd9e85bbb098"
   },
   "outputs": [],
   "source": [
    "%%writefile ../servers/tfserving/samples/halfplustwo_rest.yaml\n",
    "apiVersion: machinelearning.seldon.io/v1alpha2\n",
    "kind: SeldonDeployment\n",
    "metadata:\n",
    "  name: hpt\n",
    "spec:\n",
    "  name: hpt\n",
    "  protocol: tensorflow\n",
    "  transport: rest\n",
    "  predictors:\n",
    "  - graph:\n",
    "      name:  halfplustwo\n",
    "      implementation: TENSORFLOW_SERVER\n",
    "      modelUri: gs://seldon-models/tfserving/half_plus_two\n",
    "      parameters:\n",
    "        - name: model_name\n",
    "          type: STRING\n",
    "          value: halfplustwo\n",
    "    name: default\n",
    "    replicas: 1"
   ]
  },
  {
   "cell_type": "code",
   "execution_count": null,
   "metadata": {
    "id": "f7aada8e-36ce-4bab-9d35-ac4e7ff67fd0"
   },
   "outputs": [],
   "source": [
    "!kubectl create -f ../servers/tfserving/samples/halfplustwo_rest.yaml"
   ]
  },
  {
   "cell_type": "code",
   "execution_count": null,
   "metadata": {
    "id": "4e94cf64-5fde-4c1f-911f-f41b6ffbfa24"
   },
   "outputs": [],
   "source": [
    "%%writefile ../examples/models/payload_logging/model_logger.yaml\n",
    "apiVersion: machinelearning.seldon.io/v1\n",
    "kind: SeldonDeployment\n",
    "metadata:\n",
    "  name: model-logs\n",
    "spec:\n",
    "  name: model-logs\n",
    "  predictors:\n",
    "  - componentSpecs:\n",
    "    - spec:\n",
    "        containers:\n",
    "        - image: seldonio/mock_classifier_rest:1.3\n",
    "          name: classifier\n",
    "          imagePullPolicy: Always\n",
    "    graph:\n",
    "      name: classifier\n",
    "      type: MODEL\n",
    "      endpoint:\n",
    "        type: REST\n",
    "      logger:\n",
    "        url: http://logger.seldon/\n",
    "        mode: all\n",
    "    name: logging\n",
    "    replicas: 1"
   ]
  },
  {
   "cell_type": "code",
   "execution_count": null,
   "metadata": {
    "id": "0a04cfc6-76ab-4b81-85b6-0262c6bacb2a"
   },
   "outputs": [],
   "source": [
    "!kubectl create -f ../examples/models/payload_logging/model_logger.yaml"
   ]
  },
  {
   "cell_type": "markdown",
   "metadata": {},
   "source": [
    "Wait for all models to be available"
   ]
  },
  {
   "cell_type": "code",
   "execution_count": null,
   "metadata": {
    "id": "f8cfa100-99b2-4a53-9a3e-efd28087b4b0"
   },
   "outputs": [],
   "source": [
    "def waitStatus(desired):\n",
    "    for i in range(360):\n",
    "        allAvailable = True\n",
    "        failedGet = False\n",
    "        state = !kubectl get sdep -o json\n",
    "        state = json.loads(\"\".join(state))\n",
    "        for model in state[\"items\"]:\n",
    "            if \"status\" in model:\n",
    "                print(\"model\", model[\"metadata\"][\"name\"], model[\"status\"][\"state\"])\n",
    "                if model[\"status\"][\"state\"] != \"Available\":\n",
    "                    allAvailable = False\n",
    "                    break\n",
    "            else:\n",
    "                failedGet = True\n",
    "        if allAvailable == desired and not failedGet:\n",
    "            break\n",
    "        time.sleep(1)\n",
    "    return allAvailable\n",
    "\n",
    "\n",
    "actual = waitStatus(True)\n",
    "assert actual == True"
   ]
  },
  {
   "cell_type": "markdown",
   "metadata": {},
   "source": [
    "## Count the number of resources"
   ]
  },
  {
   "cell_type": "code",
   "execution_count": null,
   "metadata": {
    "id": "01dc19ca-9faf-442b-abbf-a4e3b76802db"
   },
   "outputs": [],
   "source": [
    "def getOwned(raw):\n",
    "    count = 0\n",
    "    for res in raw[\"items\"]:\n",
    "        if (\n",
    "            \"ownerReferences\" in res[\"metadata\"]\n",
    "            and res[\"metadata\"][\"ownerReferences\"][0][\"kind\"] == \"SeldonDeployment\"\n",
    "        ):\n",
    "            count += 1\n",
    "    return count\n",
    "\n",
    "\n",
    "def getResourceStats():\n",
    "    # Get number of deployments\n",
    "    dps = !kubectl get deployment -o json\n",
    "    dps = json.loads(\"\".join(dps))\n",
    "    numDps = getOwned(dps)\n",
    "    print(\"Number of deployments owned\", numDps)\n",
    "\n",
    "    # Get number of services\n",
    "    svcs = !kubectl get svc -o json\n",
    "    svcs = json.loads(\"\".join(svcs))\n",
    "    numSvcs = getOwned(svcs)\n",
    "    print(\"Number of services owned\", numSvcs)\n",
    "\n",
    "    # Get number of virtual services\n",
    "    vss = !kubectl get vs -o json\n",
    "    vss = json.loads(\"\".join(vss))\n",
    "    numVs = getOwned(vss)\n",
    "    print(\"Number of virtual services owned\", numVs)\n",
    "\n",
    "    # Get number of hpas\n",
    "    hpas = !kubectl get hpa -o json\n",
    "    hpas = json.loads(\"\".join(hpas))\n",
    "    numHpas = getOwned(hpas)\n",
    "    print(\"Number of hpas owned\", numHpas)\n",
    "\n",
    "    return (numDps, numSvcs, numVs, numHpas)\n",
    "\n",
    "\n",
    "(dp1, svc1, vs1, hpa1) = getResourceStats()"
   ]
  },
  {
   "cell_type": "markdown",
   "metadata": {},
   "source": [
    "## Upgrade to latest"
   ]
  },
  {
   "cell_type": "code",
   "execution_count": null,
   "metadata": {
    "id": "bb77ab37-ca2e-4558-8026-55e516b2378a"
   },
   "outputs": [],
   "source": [
    "!helm upgrade seldon ../helm-charts/seldon-core-operator --namespace seldon-system --set istio.enabled=true --wait"
   ]
  },
  {
   "cell_type": "code",
   "execution_count": null,
   "metadata": {
    "id": "a4ec69b2-9d6f-4e6c-802e-edf1d45102f2"
   },
   "outputs": [],
   "source": [
    "actual = waitStatus(False)\n",
    "assert actual == False"
   ]
  },
  {
   "cell_type": "code",
   "execution_count": null,
   "metadata": {
    "id": "936dcf60-32e8-43dc-864a-8889447cdd6d"
   },
   "outputs": [],
   "source": [
    "actual = waitStatus(True)\n",
    "assert actual == True"
   ]
  },
  {
   "cell_type": "code",
   "execution_count": null,
   "metadata": {
    "id": "98c09507-18e8-4c22-b726-655cff9c5949"
   },
   "outputs": [],
   "source": [
    "# Give time for resources to terminate\n",
    "for i in range(120):\n",
    "    (dp2, svc2, vs2, hpa2) = getResourceStats()\n",
    "    if dp1 == dp2 and svc1 == svc2 and vs1 == vs2 and hpa1 == hpa2:\n",
    "        break\n",
    "    time.sleep(1)\n",
    "assert dp1 == dp2\n",
    "assert svc1 == svc2\n",
    "assert vs1 == vs2\n",
    "assert hpa1 == hpa2"
   ]
  },
  {
   "cell_type": "code",
   "execution_count": null,
   "metadata": {
    "id": "d31310e4-1ad8-411a-8db5-90649c32e4eb"
   },
   "outputs": [],
   "source": [
    "!kubectl delete sdep --all"
   ]
  }
 ],
 "metadata": {
  "kernelspec": {
   "display_name": "Python 3",
   "language": "python",
   "name": "python3"
  },
  "language_info": {
   "codemirror_mode": {
    "name": "ipython",
    "version": 3
   },
   "file_extension": ".py",
   "mimetype": "text/x-python",
   "name": "python",
   "nbconvert_exporter": "python",
   "pygments_lexer": "ipython3",
   "version": "3.7.10"
  }
 },
 "nbformat": 4,
 "nbformat_minor": 4
}
