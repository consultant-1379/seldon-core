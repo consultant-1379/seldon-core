{
 "cells": [
  {
   "cell_type": "markdown",
   "metadata": {},
   "source": [
    "# Rolling Update Tests\n",
    "\n",
    "Check rolling updates function as expected."
   ]
  },
  {
   "cell_type": "code",
   "execution_count": null,
   "metadata": {
    "id": "aa274755-0839-4c43-94ae-801844943a4f"
   },
   "outputs": [],
   "source": [
    "import json\n",
    "import time"
   ]
  },
  {
   "cell_type": "markdown",
   "metadata": {},
   "source": [
    "Before we get started we'd like to make sure that we're making all the changes in a new blank namespace of the name `seldon`"
   ]
  },
  {
   "cell_type": "code",
   "execution_count": null,
   "metadata": {
    "id": "367712a8-9212-4fe5-9d39-e5b4ee5c9a8d"
   },
   "outputs": [],
   "source": [
    "!kubectl create namespace seldon"
   ]
  },
  {
   "cell_type": "code",
   "execution_count": null,
   "metadata": {
    "id": "fcdecab2-5465-4b44-97ea-a09bd5221f39"
   },
   "outputs": [],
   "source": [
    "!kubectl config set-context $(kubectl config current-context) --namespace=seldon"
   ]
  },
  {
   "cell_type": "markdown",
   "metadata": {},
   "source": [
    "## Change Image"
   ]
  },
  {
   "cell_type": "markdown",
   "metadata": {},
   "source": [
    "We'll want to try modifying an image and seeing how the rolling update performs the changes.\n",
    "\n",
    "We'll first create the following model:"
   ]
  },
  {
   "cell_type": "code",
   "execution_count": null,
   "metadata": {
    "id": "01d78b72-fad0-4c9c-abdd-60ca14a3f2bb"
   },
   "outputs": [],
   "source": [
    "%%writefile resources/fixed_v1.yaml\n",
    "apiVersion: machinelearning.seldon.io/v1\n",
    "kind: SeldonDeployment\n",
    "metadata:\n",
    "  name: fixed\n",
    "spec:\n",
    "  name: fixed\n",
    "  protocol: seldon\n",
    "  transport: rest\n",
    "  predictors:\n",
    "  - componentSpecs:\n",
    "    - spec:\n",
    "        containers:\n",
    "        - image: seldonio/fixed-model:0.1\n",
    "          name: classifier\n",
    "    graph:\n",
    "      name: classifier\n",
    "      type: MODEL\n",
    "    name: default\n",
    "    replicas: 3"
   ]
  },
  {
   "cell_type": "markdown",
   "metadata": {},
   "source": [
    "Now we can run that model and wait until it's released"
   ]
  },
  {
   "cell_type": "code",
   "execution_count": null,
   "metadata": {
    "id": "e73fc229-5627-4c34-a42b-ed4687761d6b"
   },
   "outputs": [],
   "source": [
    "!kubectl apply -f resources/fixed_v1.yaml"
   ]
  },
  {
   "cell_type": "code",
   "execution_count": null,
   "metadata": {
    "id": "7d750e32-ea1f-4893-8f07-7549e6475c31"
   },
   "outputs": [],
   "source": [
    "!kubectl rollout status deploy/$(kubectl get deploy -l seldon-deployment-id=fixed \\\n",
    "                                 -o jsonpath='{.items[0].metadata.name}')"
   ]
  },
  {
   "cell_type": "markdown",
   "metadata": {},
   "source": [
    "Let's confirm that the state of the model is Available"
   ]
  },
  {
   "cell_type": "code",
   "execution_count": null,
   "metadata": {
    "id": "64f490dc-cf02-4830-8c59-e0c06154da83"
   },
   "outputs": [],
   "source": [
    "for i in range(60):\n",
    "    state = !kubectl get sdep fixed -o jsonpath='{.status.state}'\n",
    "    state = state[0]\n",
    "    print(state)\n",
    "    if state == \"Available\":\n",
    "        break\n",
    "    time.sleep(1)\n",
    "assert state == \"Available\""
   ]
  },
  {
   "cell_type": "code",
   "execution_count": null,
   "metadata": {
    "id": "66f616f7-1341-4e26-9108-b7589d030ec8"
   },
   "outputs": [],
   "source": [
    "!curl -d '{\"data\": {\"ndarray\":[[1.0, 2.0, 5.0]]}}' \\\n",
    "   -X POST http://localhost:8003/seldon/seldon/fixed/api/v1.0/predictions \\\n",
    "   -H \"Content-Type: application/json\""
   ]
  },
  {
   "cell_type": "markdown",
   "metadata": {},
   "source": [
    "Now we can modify the model by providing a new image name, using the following config file:"
   ]
  },
  {
   "cell_type": "code",
   "execution_count": null,
   "metadata": {
    "id": "360a9130-8a72-4b45-9bf7-0027429a94dd"
   },
   "outputs": [],
   "source": [
    "%%writefile resources/fixed_v2.yaml\n",
    "apiVersion: machinelearning.seldon.io/v1\n",
    "kind: SeldonDeployment\n",
    "metadata:\n",
    "  name: fixed\n",
    "spec:\n",
    "  name: fixed\n",
    "  protocol: seldon\n",
    "  transport: rest\n",
    "  predictors:\n",
    "  - componentSpecs:\n",
    "    - spec:\n",
    "        containers:\n",
    "        - image: seldonio/fixed-model:0.2\n",
    "          name: classifier\n",
    "    graph:\n",
    "      name: classifier\n",
    "      type: MODEL\n",
    "    name: default\n",
    "    replicas: 3"
   ]
  },
  {
   "cell_type": "code",
   "execution_count": null,
   "metadata": {
    "id": "197518f0-7e07-48e5-ba69-e46e7e2b1775"
   },
   "outputs": [],
   "source": [
    "!kubectl apply -f resources/fixed_v2.yaml"
   ]
  },
  {
   "cell_type": "markdown",
   "metadata": {},
   "source": [
    "Now let's actually send a couple of requests to make sure that there are no failed requests as the rolling update is performed"
   ]
  },
  {
   "cell_type": "code",
   "execution_count": null,
   "metadata": {
    "id": "a853036c-69e8-4c1f-897a-2624a58319f6"
   },
   "outputs": [],
   "source": [
    "time.sleep(5)  # To allow operator to start the update\n",
    "for i in range(120):\n",
    "    responseRaw = !curl -s -d '{\"data\": {\"ndarray\":[[1.0, 2.0, 5.0]]}}' -X POST http://localhost:8003/seldon/seldon/fixed/api/v1.0/predictions -H \"Content-Type: application/json\"\n",
    "    try:\n",
    "        response = json.loads(responseRaw[0])\n",
    "    except:\n",
    "        print(\"Failed to parse json\", responseRaw)\n",
    "        continue\n",
    "    assert response[\"data\"][\"ndarray\"][0] == 1 or response[\"data\"][\"ndarray\"][0] == 5\n",
    "    jsonRaw = !kubectl get deploy -l seldon-deployment-id=fixed -o json\n",
    "    data = \"\".join(jsonRaw)\n",
    "    resources = json.loads(data)\n",
    "    numReplicas = int(resources[\"items\"][0][\"status\"][\"replicas\"])\n",
    "    if numReplicas == 3:\n",
    "        break\n",
    "    time.sleep(1)\n",
    "print(\"Rollout Success\")"
   ]
  },
  {
   "cell_type": "code",
   "execution_count": null,
   "metadata": {
    "id": "3f00fc46-5145-4e30-9371-1accc2e3849e"
   },
   "outputs": [],
   "source": [
    "!kubectl delete -f resources/fixed_v1.yaml"
   ]
  },
  {
   "cell_type": "markdown",
   "metadata": {},
   "source": [
    "## Change Replicas (no rolling update)"
   ]
  },
  {
   "cell_type": "markdown",
   "metadata": {},
   "source": [
    "We'll want to try modifying number of replicas and no rolling update is needed.\n",
    "\n",
    "We'll first create the following model:"
   ]
  },
  {
   "cell_type": "code",
   "execution_count": null,
   "metadata": {
    "id": "a47bbc18-254f-4972-ac95-ac2f338c0ba7"
   },
   "outputs": [],
   "source": [
    "%%writefile resources/fixed_v1_rep2.yaml\n",
    "apiVersion: machinelearning.seldon.io/v1\n",
    "kind: SeldonDeployment\n",
    "metadata:\n",
    "  name: fixed\n",
    "spec:\n",
    "  name: fixed\n",
    "  protocol: seldon\n",
    "  transport: rest\n",
    "  predictors:\n",
    "  - componentSpecs:\n",
    "    - spec:\n",
    "        containers:\n",
    "        - image: seldonio/fixed-model:0.1\n",
    "          name: classifier\n",
    "    graph:\n",
    "      name: classifier\n",
    "      type: MODEL\n",
    "    name: default\n",
    "    replicas: 2"
   ]
  },
  {
   "cell_type": "markdown",
   "metadata": {},
   "source": [
    "Now we can run that model and wait until it's released"
   ]
  },
  {
   "cell_type": "code",
   "execution_count": null,
   "metadata": {
    "id": "6da1ba0d-0fe2-4783-96be-94148e009938"
   },
   "outputs": [],
   "source": [
    "!kubectl apply -f resources/fixed_v1_rep2.yaml"
   ]
  },
  {
   "cell_type": "code",
   "execution_count": null,
   "metadata": {
    "id": "a56855c9-98a3-457a-98de-202269ab1ff0"
   },
   "outputs": [],
   "source": [
    "!kubectl rollout status deploy/$(kubectl get deploy -l seldon-deployment-id=fixed \\\n",
    "                                 -o jsonpath='{.items[0].metadata.name}')"
   ]
  },
  {
   "cell_type": "markdown",
   "metadata": {},
   "source": [
    "Let's confirm that the state of the model is Available"
   ]
  },
  {
   "cell_type": "code",
   "execution_count": null,
   "metadata": {
    "id": "4d224fc9-77fd-4de1-b878-42baf30a20b6"
   },
   "outputs": [],
   "source": [
    "for i in range(60):\n",
    "    state = !kubectl get sdep fixed -o jsonpath='{.status.state}'\n",
    "    state = state[0]\n",
    "    print(state)\n",
    "    if state == \"Available\":\n",
    "        break\n",
    "    time.sleep(1)\n",
    "assert state == \"Available\""
   ]
  },
  {
   "cell_type": "code",
   "execution_count": null,
   "metadata": {
    "id": "76ff1166-dac1-4594-b551-9792bd4a9604"
   },
   "outputs": [],
   "source": [
    "!curl -d '{\"data\": {\"ndarray\":[[1.0, 2.0, 5.0]]}}' \\\n",
    "   -X POST http://localhost:8003/seldon/seldon/fixed/api/v1.0/predictions \\\n",
    "   -H \"Content-Type: application/json\""
   ]
  },
  {
   "cell_type": "markdown",
   "metadata": {},
   "source": [
    "Now we can modify the model by providing a new image name, using the following config file:"
   ]
  },
  {
   "cell_type": "code",
   "execution_count": null,
   "metadata": {
    "id": "f8e97971-1133-49b1-ace7-9798623f01d0"
   },
   "outputs": [],
   "source": [
    "%%writefile resources/fixed_v1_rep4.yaml\n",
    "apiVersion: machinelearning.seldon.io/v1\n",
    "kind: SeldonDeployment\n",
    "metadata:\n",
    "  name: fixed\n",
    "spec:\n",
    "  name: fixed\n",
    "  protocol: seldon\n",
    "  transport: rest\n",
    "  predictors:\n",
    "  - componentSpecs:\n",
    "    - spec:\n",
    "        containers:\n",
    "        - image: seldonio/fixed-model:0.1\n",
    "          name: classifier\n",
    "    graph:\n",
    "      name: classifier\n",
    "      type: MODEL\n",
    "    name: default\n",
    "    replicas: 4"
   ]
  },
  {
   "cell_type": "code",
   "execution_count": null,
   "metadata": {
    "id": "d73cda66-6703-44be-a0ab-4c7a13dff5c1"
   },
   "outputs": [],
   "source": [
    "!kubectl apply -f resources/fixed_v1_rep4.yaml"
   ]
  },
  {
   "cell_type": "markdown",
   "metadata": {},
   "source": [
    "Now let's actually send a couple of requests to make sure that there are no failed requests as the rolling update is performed"
   ]
  },
  {
   "cell_type": "code",
   "execution_count": null,
   "metadata": {
    "id": "e9843851-8ee4-4305-9046-395302391e02"
   },
   "outputs": [],
   "source": [
    "time.sleep(5)  # To allow operator to start the update\n",
    "for i in range(120):\n",
    "    responseRaw = !curl -s -d '{\"data\": {\"ndarray\":[[1.0, 2.0, 5.0]]}}' -X POST http://localhost:8003/seldon/seldon/fixed/api/v1.0/predictions -H \"Content-Type: application/json\"\n",
    "    try:\n",
    "        response = json.loads(responseRaw[0])\n",
    "    except:\n",
    "        print(\"Failed to parse json\", responseRaw)\n",
    "        continue\n",
    "    assert response[\"data\"][\"ndarray\"][0] == 1 or response[\"data\"][\"ndarray\"][0] == 5\n",
    "    jsonRaw = !kubectl get deploy -l seldon-deployment-id=fixed -o json\n",
    "    data = \"\".join(jsonRaw)\n",
    "    resources = json.loads(data)\n",
    "    numReplicas = int(resources[\"items\"][0][\"status\"][\"replicas\"])\n",
    "    if numReplicas == 4:\n",
    "        break\n",
    "    time.sleep(1)\n",
    "print(\"Rollout Success\")"
   ]
  },
  {
   "cell_type": "markdown",
   "metadata": {},
   "source": [
    "Now downsize back to 2"
   ]
  },
  {
   "cell_type": "code",
   "execution_count": null,
   "metadata": {
    "id": "85046114-0b7e-46bb-832d-ab1de08c133d"
   },
   "outputs": [],
   "source": [
    "!kubectl apply -f resources/fixed_v1_rep2.yaml"
   ]
  },
  {
   "cell_type": "code",
   "execution_count": null,
   "metadata": {
    "id": "a57cd813-89aa-445c-9284-a6594ddd2b33"
   },
   "outputs": [],
   "source": [
    "time.sleep(5)  # To allow operator to start the update\n",
    "for i in range(120):\n",
    "    responseRaw = !curl -s -d '{\"data\": {\"ndarray\":[[1.0, 2.0, 5.0]]}}' -X POST http://localhost:8003/seldon/seldon/fixed/api/v1.0/predictions -H \"Content-Type: application/json\"\n",
    "    try:\n",
    "        response = json.loads(responseRaw[0])\n",
    "    except:\n",
    "        print(\"Failed to parse json\", responseRaw)\n",
    "        continue\n",
    "    assert response[\"data\"][\"ndarray\"][0] == 1 or response[\"data\"][\"ndarray\"][0] == 5\n",
    "    jsonRaw = !kubectl get deploy -l seldon-deployment-id=fixed -o json\n",
    "    data = \"\".join(jsonRaw)\n",
    "    resources = json.loads(data)\n",
    "    numReplicas = int(resources[\"items\"][0][\"status\"][\"replicas\"])\n",
    "    if numReplicas == 2:\n",
    "        break\n",
    "    time.sleep(1)\n",
    "print(\"Rollout Success\")"
   ]
  },
  {
   "cell_type": "code",
   "execution_count": null,
   "metadata": {
    "id": "679a441f-7764-4956-8bc1-8b1a82807fcb"
   },
   "outputs": [],
   "source": [
    "!kubectl delete -f resources/fixed_v1_rep2.yaml"
   ]
  },
  {
   "cell_type": "markdown",
   "metadata": {},
   "source": [
    "## Separate Service Orchestrator\n",
    "\n",
    "We can test that the rolling update works when we use the annotation that allows us to have the service orchestrator on a separate pod, namely `seldon.io/engine-separate-pod: \"true\"`, as per the config file below. Though in this case both the service orchestrator and model pod will be recreated."
   ]
  },
  {
   "cell_type": "code",
   "execution_count": null,
   "metadata": {
    "id": "0039132b-4281-45fa-be4b-b1b499b8544d"
   },
   "outputs": [],
   "source": [
    "%%writefile resources/fixed_v1_sep.yaml\n",
    "apiVersion: machinelearning.seldon.io/v1\n",
    "kind: SeldonDeployment\n",
    "metadata:\n",
    "  name: fixed\n",
    "spec:\n",
    "  name: fixed\n",
    "  protocol: seldon\n",
    "  transport: rest\n",
    "  annotations:\n",
    "    seldon.io/engine-separate-pod: \"true\"\n",
    "  predictors:\n",
    "  - componentSpecs:\n",
    "    - spec:\n",
    "        containers:\n",
    "        - image: seldonio/fixed-model:0.1\n",
    "          name: classifier\n",
    "    graph:\n",
    "      name: classifier\n",
    "      type: MODEL\n",
    "    name: default\n",
    "    replicas: 1"
   ]
  },
  {
   "cell_type": "code",
   "execution_count": null,
   "metadata": {
    "id": "33c3714b-7743-4520-bdaa-83261a659796"
   },
   "outputs": [],
   "source": [
    "!kubectl apply -f resources/fixed_v1_sep.yaml"
   ]
  },
  {
   "cell_type": "code",
   "execution_count": null,
   "metadata": {
    "id": "1f2324d8-5469-48b1-8b26-dae4216f82df"
   },
   "outputs": [],
   "source": [
    "!kubectl rollout status deploy/$(kubectl get deploy -l seldon-deployment-id=fixed \\\n",
    "                                 -o jsonpath='{.items[0].metadata.name}')"
   ]
  },
  {
   "cell_type": "markdown",
   "metadata": {},
   "source": [
    "We can wait until the pod is available before starting the rolling update."
   ]
  },
  {
   "cell_type": "code",
   "execution_count": null,
   "metadata": {
    "id": "118316e2-b405-4a57-b593-bb7a86d0b5a2"
   },
   "outputs": [],
   "source": [
    "for i in range(60):\n",
    "    state = !kubectl get sdep fixed -o jsonpath='{.status.state}'\n",
    "    state = state[0]\n",
    "    print(state)\n",
    "    if state == \"Available\":\n",
    "        break\n",
    "    time.sleep(1)\n",
    "assert state == \"Available\""
   ]
  },
  {
   "cell_type": "code",
   "execution_count": null,
   "metadata": {
    "id": "13d138f6-0aa8-4a02-b464-2e4c38a33130"
   },
   "outputs": [],
   "source": [
    "!curl -d '{\"data\": {\"ndarray\":[[1.0, 2.0, 5.0]]}}' \\\n",
    "   -X POST http://localhost:8003/seldon/seldon/fixed/api/v1.0/predictions \\\n",
    "   -H \"Content-Type: application/json\""
   ]
  },
  {
   "cell_type": "markdown",
   "metadata": {},
   "source": [
    "Now we can make a rolling update by changing the version of the docker image we will be updating it for."
   ]
  },
  {
   "cell_type": "code",
   "execution_count": null,
   "metadata": {
    "id": "ce5926e5-1d70-40bd-bc2e-54636f12b95d"
   },
   "outputs": [],
   "source": [
    "%%writefile resources/fixed_v2_sep.yaml\n",
    "apiVersion: machinelearning.seldon.io/v1\n",
    "kind: SeldonDeployment\n",
    "metadata:\n",
    "  name: fixed\n",
    "spec:\n",
    "  name: fixed\n",
    "  protocol: seldon\n",
    "  transport: rest\n",
    "  annotations:\n",
    "    seldon.io/engine-separate-pod: \"true\"\n",
    "  predictors:\n",
    "  - componentSpecs:\n",
    "    - spec:\n",
    "        containers:\n",
    "        - image: seldonio/fixed-model:0.2\n",
    "          name: classifier\n",
    "    graph:\n",
    "      name: classifier\n",
    "      type: MODEL\n",
    "    name: default\n",
    "    replicas: 1"
   ]
  },
  {
   "cell_type": "code",
   "execution_count": null,
   "metadata": {
    "id": "8a85b2e6-0881-4ddd-8f2d-aeeece5a7ac4"
   },
   "outputs": [],
   "source": [
    "!kubectl apply -f resources/fixed_v2_sep.yaml"
   ]
  },
  {
   "cell_type": "markdown",
   "metadata": {},
   "source": [
    "And we can send requests to confirm that the rolling update is performed without interruptions"
   ]
  },
  {
   "cell_type": "code",
   "execution_count": null,
   "metadata": {
    "id": "88f16aef-1698-42f6-bbcd-a1769aa0906b"
   },
   "outputs": [],
   "source": [
    "time.sleep(5)  # To allow operator to start the update\n",
    "for i in range(120):\n",
    "    responseRaw = !curl -s -d '{\"data\": {\"ndarray\":[[1.0, 2.0, 5.0]]}}' -X POST http://localhost:8003/seldon/seldon/fixed/api/v1.0/predictions -H \"Content-Type: application/json\"\n",
    "    try:\n",
    "        response = json.loads(responseRaw[0])\n",
    "    except:\n",
    "        print(\"Failed to parse json\", responseRaw)\n",
    "        continue\n",
    "    assert response[\"data\"][\"ndarray\"][0] == 1 or response[\"data\"][\"ndarray\"][0] == 5\n",
    "    jsonRaw = !kubectl get deploy -l seldon-deployment-id=fixed -o json\n",
    "    data = \"\".join(jsonRaw)\n",
    "    resources = json.loads(data)\n",
    "    numReplicas = int(resources[\"items\"][0][\"status\"][\"replicas\"])\n",
    "    if numReplicas == 1:\n",
    "        break\n",
    "    time.sleep(1)\n",
    "print(\"Rollout Success\")"
   ]
  },
  {
   "cell_type": "code",
   "execution_count": null,
   "metadata": {
    "id": "f9c41e0e-3519-48a9-9d28-adebba21570f"
   },
   "outputs": [],
   "source": [
    "!kubectl delete -f resources/fixed_v1_sep.yaml"
   ]
  },
  {
   "cell_type": "markdown",
   "metadata": {},
   "source": [
    "## Two PodSpecs"
   ]
  },
  {
   "cell_type": "markdown",
   "metadata": {},
   "source": [
    "We can test that the rolling update works when we have multiple podSpecs in our deployment and only does a rolling update the first pod (which also contains the service orchestrator)"
   ]
  },
  {
   "cell_type": "code",
   "execution_count": null,
   "metadata": {
    "id": "bc41413f-56b4-49d1-941a-dd2394740240"
   },
   "outputs": [],
   "source": [
    "%%writefile resources/fixed_v1_2podspecs.yaml\n",
    "apiVersion: machinelearning.seldon.io/v1\n",
    "kind: SeldonDeployment\n",
    "metadata:\n",
    "  name: fixed\n",
    "spec:\n",
    "  name: fixed\n",
    "  protocol: seldon\n",
    "  transport: rest\n",
    "  predictors:\n",
    "  - componentSpecs:\n",
    "    - spec:\n",
    "        containers:\n",
    "        - image: seldonio/fixed-model:0.1\n",
    "          name: classifier1\n",
    "    - spec:\n",
    "        containers:\n",
    "        - image: seldonio/fixed-model:0.1\n",
    "          name: classifier2\n",
    "    graph:\n",
    "      name: classifier1\n",
    "      type: MODEL\n",
    "      children:\n",
    "      - name: classifier2\n",
    "        type: MODEL\n",
    "    name: default\n",
    "    replicas: 1"
   ]
  },
  {
   "cell_type": "code",
   "execution_count": null,
   "metadata": {
    "id": "96e52de0-8967-4385-92b8-9e5c19efc1c8"
   },
   "outputs": [],
   "source": [
    "!kubectl apply -f resources/fixed_v1_2podspecs.yaml"
   ]
  },
  {
   "cell_type": "code",
   "execution_count": null,
   "metadata": {
    "id": "f99565aa-7df6-4475-b960-103dfc29b446"
   },
   "outputs": [],
   "source": [
    "!kubectl rollout status deploy/$(kubectl get deploy -l seldon-deployment-id=fixed \\\n",
    "                                 -o jsonpath='{.items[0].metadata.name}')"
   ]
  },
  {
   "cell_type": "markdown",
   "metadata": {},
   "source": [
    "We can wait until the pod is available before starting the rolling update."
   ]
  },
  {
   "cell_type": "code",
   "execution_count": null,
   "metadata": {
    "id": "bdce8c07-b031-44b8-8d2c-71b212f37172"
   },
   "outputs": [],
   "source": [
    "for i in range(60):\n",
    "    state = !kubectl get sdep fixed -o jsonpath='{.status.state}'\n",
    "    state = state[0]\n",
    "    print(state)\n",
    "    if state == \"Available\":\n",
    "        break\n",
    "    time.sleep(1)\n",
    "assert state == \"Available\""
   ]
  },
  {
   "cell_type": "code",
   "execution_count": null,
   "metadata": {
    "id": "c12bd733-cc37-48a5-85f4-850bf7cf244a"
   },
   "outputs": [],
   "source": [
    "!curl -d '{\"data\": {\"ndarray\":[[1.0, 2.0, 5.0]]}}' \\\n",
    "   -X POST http://localhost:8003/seldon/seldon/fixed/api/v1.0/predictions \\\n",
    "   -H \"Content-Type: application/json\""
   ]
  },
  {
   "cell_type": "markdown",
   "metadata": {},
   "source": [
    "Now we can make a rolling update by changing the version of the docker image we will be updating it for."
   ]
  },
  {
   "cell_type": "code",
   "execution_count": null,
   "metadata": {
    "id": "9e451883-7182-4dfa-a489-e2ccad1fa00b"
   },
   "outputs": [],
   "source": [
    "%%writefile resources/fixed_v2_2podspecs.yaml\n",
    "apiVersion: machinelearning.seldon.io/v1\n",
    "kind: SeldonDeployment\n",
    "metadata:\n",
    "  name: fixed\n",
    "spec:\n",
    "  name: fixed\n",
    "  protocol: seldon\n",
    "  transport: rest\n",
    "  predictors:\n",
    "  - componentSpecs:\n",
    "    - spec:\n",
    "        containers:\n",
    "        - image: seldonio/fixed-model:0.1\n",
    "          name: classifier1\n",
    "    - spec:\n",
    "        containers:\n",
    "        - image: seldonio/fixed-model:0.2\n",
    "          name: classifier2\n",
    "    graph:\n",
    "      name: classifier1\n",
    "      type: MODEL\n",
    "      children:\n",
    "      - name: classifier2\n",
    "        type: MODEL\n",
    "    name: default\n",
    "    replicas: 1"
   ]
  },
  {
   "cell_type": "code",
   "execution_count": null,
   "metadata": {
    "id": "dd615770-a811-431e-9cff-8978e6ed0587"
   },
   "outputs": [],
   "source": [
    "!kubectl apply -f resources/fixed_v2_2podspecs.yaml"
   ]
  },
  {
   "cell_type": "markdown",
   "metadata": {},
   "source": [
    "And we can send requests to confirm that the rolling update is performed without interruptions"
   ]
  },
  {
   "cell_type": "code",
   "execution_count": null,
   "metadata": {
    "id": "3db949b3-7f67-423c-bda1-8379a76bff19"
   },
   "outputs": [],
   "source": [
    "time.sleep(5)  # To allow operator to start the update\n",
    "for i in range(120):\n",
    "    responseRaw = !curl -s -d '{\"data\": {\"ndarray\":[[1.0, 2.0, 5.0]]}}' -X POST http://localhost:8003/seldon/seldon/fixed/api/v1.0/predictions -H \"Content-Type: application/json\"\n",
    "    try:\n",
    "        response = json.loads(responseRaw[0])\n",
    "    except:\n",
    "        print(\"Failed to parse json\", responseRaw)\n",
    "        continue\n",
    "    assert response[\"data\"][\"ndarray\"][0] == 1 or response[\"data\"][\"ndarray\"][0] == 5\n",
    "    jsonRaw = !kubectl get deploy -l seldon-deployment-id=fixed -o json\n",
    "    data = \"\".join(jsonRaw)\n",
    "    resources = json.loads(data)\n",
    "    numReplicas = int(resources[\"items\"][0][\"status\"][\"replicas\"])\n",
    "    if numReplicas == 1:\n",
    "        break\n",
    "    time.sleep(1)\n",
    "print(\"Rollout Success\")"
   ]
  },
  {
   "cell_type": "code",
   "execution_count": null,
   "metadata": {
    "id": "3bae3204-a4b0-469d-bf86-3ff5ddae5905"
   },
   "outputs": [],
   "source": [
    "!kubectl delete -f resources/fixed_v1_2podspecs.yaml"
   ]
  },
  {
   "cell_type": "markdown",
   "metadata": {},
   "source": [
    "## Two Models\n",
    "\n",
    "We can test that the rolling update works when we have two predictors / models in our deployment."
   ]
  },
  {
   "cell_type": "code",
   "execution_count": null,
   "metadata": {
    "id": "b65b3eed-02e8-4134-a4f1-945be50803ff"
   },
   "outputs": [],
   "source": [
    "%%writefile resources/fixed_v1_2models.yaml\n",
    "apiVersion: machinelearning.seldon.io/v1\n",
    "kind: SeldonDeployment\n",
    "metadata:\n",
    "  name: fixed\n",
    "spec:\n",
    "  name: fixed\n",
    "  protocol: seldon\n",
    "  transport: rest\n",
    "  predictors:\n",
    "  - componentSpecs:\n",
    "    - spec:\n",
    "        containers:\n",
    "        - image: seldonio/fixed-model:0.1\n",
    "          name: classifier\n",
    "        - image: seldonio/fixed-model:0.1\n",
    "          name: classifier2\n",
    "    graph:\n",
    "      name: classifier\n",
    "      type: MODEL\n",
    "      children:\n",
    "      - name: classifier2\n",
    "        type: MODEL\n",
    "    name: default\n",
    "    replicas: 3"
   ]
  },
  {
   "cell_type": "code",
   "execution_count": null,
   "metadata": {
    "id": "622b9e6b-e7cf-4c5d-b4ce-bec454e96f3a"
   },
   "outputs": [],
   "source": [
    "!kubectl apply -f resources/fixed_v1_2models.yaml"
   ]
  },
  {
   "cell_type": "code",
   "execution_count": null,
   "metadata": {
    "id": "4a79171e-5be4-4536-84f0-fc8c7f016a5d"
   },
   "outputs": [],
   "source": [
    "!kubectl rollout status deploy/$(kubectl get deploy -l seldon-deployment-id=fixed \\\n",
    "                                 -o jsonpath='{.items[0].metadata.name}')"
   ]
  },
  {
   "cell_type": "markdown",
   "metadata": {},
   "source": [
    "We can wait until the pod is available before starting the rolling update."
   ]
  },
  {
   "cell_type": "code",
   "execution_count": null,
   "metadata": {
    "id": "48983eb9-2dd8-443b-b050-26dea4a9952e"
   },
   "outputs": [],
   "source": [
    "for i in range(60):\n",
    "    state = !kubectl get sdep fixed -o jsonpath='{.status.state}'\n",
    "    state = state[0]\n",
    "    print(state)\n",
    "    if state == \"Available\":\n",
    "        break\n",
    "    time.sleep(1)\n",
    "assert state == \"Available\""
   ]
  },
  {
   "cell_type": "code",
   "execution_count": null,
   "metadata": {
    "id": "5194fc1f-f335-4773-8bc9-e3b0b7f07555"
   },
   "outputs": [],
   "source": [
    "!curl -d '{\"data\": {\"ndarray\":[[1.0, 2.0, 5.0]]}}' \\\n",
    "   -X POST http://localhost:8003/seldon/seldon/fixed/api/v1.0/predictions \\\n",
    "   -H \"Content-Type: application/json\""
   ]
  },
  {
   "cell_type": "markdown",
   "metadata": {},
   "source": [
    "Now we can make a rolling update by changing the version of the docker image we will be updating it for."
   ]
  },
  {
   "cell_type": "code",
   "execution_count": null,
   "metadata": {
    "id": "9077c1d3-eba4-4ff1-b7d5-dc3629faa4a5"
   },
   "outputs": [],
   "source": [
    "%%writefile resources/fixed_v2_2models.yaml\n",
    "apiVersion: machinelearning.seldon.io/v1\n",
    "kind: SeldonDeployment\n",
    "metadata:\n",
    "  name: fixed\n",
    "spec:\n",
    "  name: fixed\n",
    "  protocol: seldon\n",
    "  transport: rest\n",
    "  predictors:\n",
    "  - componentSpecs:\n",
    "    - spec:\n",
    "        containers:\n",
    "        - image: seldonio/fixed-model:0.2\n",
    "          name: classifier\n",
    "        - image: seldonio/fixed-model:0.2\n",
    "          name: classifier2\n",
    "    graph:\n",
    "      name: classifier\n",
    "      type: MODEL\n",
    "      children:\n",
    "      - name: classifier2\n",
    "        type: MODEL\n",
    "    name: default\n",
    "    replicas: 3"
   ]
  },
  {
   "cell_type": "code",
   "execution_count": null,
   "metadata": {
    "id": "c8206b2b-235c-46ee-9b53-699bdce02b12"
   },
   "outputs": [],
   "source": [
    "!kubectl apply -f resources/fixed_v2_2models.yaml"
   ]
  },
  {
   "cell_type": "markdown",
   "metadata": {},
   "source": [
    "And we can send requests to confirm that the rolling update is performed without interruptions"
   ]
  },
  {
   "cell_type": "code",
   "execution_count": null,
   "metadata": {
    "id": "c1a7d6d9-4f18-4ac1-a565-6f43c73f09dc"
   },
   "outputs": [],
   "source": [
    "time.sleep(5)  # To allow operator to start the update\n",
    "for i in range(120):\n",
    "    responseRaw = !curl -s -d '{\"data\": {\"ndarray\":[[1.0, 2.0, 5.0]]}}' -X POST http://localhost:8003/seldon/seldon/fixed/api/v1.0/predictions -H \"Content-Type: application/json\"\n",
    "    try:\n",
    "        response = json.loads(responseRaw[0])\n",
    "    except:\n",
    "        print(\"Failed to parse json\", responseRaw)\n",
    "        continue\n",
    "    assert response[\"data\"][\"ndarray\"][0] == 1 or response[\"data\"][\"ndarray\"][0] == 5\n",
    "    jsonRaw = !kubectl get deploy -l seldon-deployment-id=fixed -o json\n",
    "    data = \"\".join(jsonRaw)\n",
    "    resources = json.loads(data)\n",
    "    numReplicas = int(resources[\"items\"][0][\"status\"][\"replicas\"])\n",
    "    if numReplicas == 3:\n",
    "        break\n",
    "    time.sleep(1)\n",
    "print(\"Rollout Success\")"
   ]
  },
  {
   "cell_type": "code",
   "execution_count": null,
   "metadata": {
    "id": "382805ef-e73c-48b5-8f2b-233798deb052"
   },
   "outputs": [],
   "source": [
    "!kubectl delete -f resources/fixed_v2_2models.yaml"
   ]
  },
  {
   "cell_type": "markdown",
   "metadata": {},
   "source": [
    "## Two Predictors\n",
    "\n",
    "We can test that the rolling update works when we have two predictors in our deployment."
   ]
  },
  {
   "cell_type": "code",
   "execution_count": null,
   "metadata": {
    "id": "2f8ef36a-2ce9-4c9f-a4ad-91a2ab4327de"
   },
   "outputs": [],
   "source": [
    "%%writefile resources/fixed_v1_2predictors.yaml\n",
    "apiVersion: machinelearning.seldon.io/v1\n",
    "kind: SeldonDeployment\n",
    "metadata:\n",
    "  name: fixed\n",
    "spec:\n",
    "  name: fixed\n",
    "  protocol: seldon\n",
    "  transport: rest\n",
    "  predictors:\n",
    "  - componentSpecs:\n",
    "    - spec:\n",
    "        containers:\n",
    "        - image: seldonio/fixed-model:0.1\n",
    "          name: classifier\n",
    "        - image: seldonio/fixed-model:0.1\n",
    "          name: classifier2\n",
    "    graph:\n",
    "      name: classifier\n",
    "      type: MODEL\n",
    "      children:\n",
    "      - name: classifier2\n",
    "        type: MODEL\n",
    "    name: a\n",
    "    replicas: 3\n",
    "    traffic: 50\n",
    "  - componentSpecs:\n",
    "    - spec:\n",
    "        containers:\n",
    "        - image: seldonio/fixed-model:0.1\n",
    "          name: classifier\n",
    "        - image: seldonio/fixed-model:0.1\n",
    "          name: classifier2\n",
    "    graph:\n",
    "      name: classifier\n",
    "      type: MODEL\n",
    "      children:\n",
    "      - name: classifier2\n",
    "        type: MODEL\n",
    "    name: b\n",
    "    replicas: 1\n",
    "    traffic: 50"
   ]
  },
  {
   "cell_type": "code",
   "execution_count": null,
   "metadata": {
    "id": "6622d481-43fe-48ac-a3e3-7fa83af5197b"
   },
   "outputs": [],
   "source": [
    "!kubectl apply -f resources/fixed_v1_2predictors.yaml"
   ]
  },
  {
   "cell_type": "code",
   "execution_count": null,
   "metadata": {
    "id": "90757d1c-92c8-46f5-9793-cccd60079c19"
   },
   "outputs": [],
   "source": [
    "!kubectl rollout status deploy/$(kubectl get deploy -l seldon-deployment-id=fixed \\\n",
    "                                 -o jsonpath='{.items[0].metadata.name}')"
   ]
  },
  {
   "cell_type": "markdown",
   "metadata": {},
   "source": [
    "We can wait until the pod is available before starting the rolling update."
   ]
  },
  {
   "cell_type": "code",
   "execution_count": null,
   "metadata": {
    "id": "4949c18d-696e-43b6-b372-00832b652b25"
   },
   "outputs": [],
   "source": [
    "for i in range(60):\n",
    "    state = !kubectl get sdep fixed -o jsonpath='{.status.state}'\n",
    "    state = state[0]\n",
    "    print(state)\n",
    "    if state == \"Available\":\n",
    "        break\n",
    "    time.sleep(1)\n",
    "assert state == \"Available\""
   ]
  },
  {
   "cell_type": "code",
   "execution_count": null,
   "metadata": {
    "id": "f1386157-7744-4bb7-b17b-6435c51953a9"
   },
   "outputs": [],
   "source": [
    "!curl -d '{\"data\": {\"ndarray\":[[1.0, 2.0, 5.0]]}}' \\\n",
    "   -X POST http://localhost:8003/seldon/seldon/fixed/api/v1.0/predictions \\\n",
    "   -H \"Content-Type: application/json\""
   ]
  },
  {
   "cell_type": "markdown",
   "metadata": {},
   "source": [
    "Now we can make a rolling update by changing the version of the docker image we will be updating it for."
   ]
  },
  {
   "cell_type": "code",
   "execution_count": null,
   "metadata": {
    "id": "23cfd7d3-83c4-4c06-997c-9f2a52566706"
   },
   "outputs": [],
   "source": [
    "%%writefile resources/fixed_v2_2predictors.yaml\n",
    "apiVersion: machinelearning.seldon.io/v1\n",
    "kind: SeldonDeployment\n",
    "metadata:\n",
    "  name: fixed\n",
    "spec:\n",
    "  name: fixed\n",
    "  protocol: seldon\n",
    "  transport: rest\n",
    "  predictors:\n",
    "  - componentSpecs:\n",
    "    - spec:\n",
    "        containers:\n",
    "        - image: seldonio/fixed-model:0.2\n",
    "          name: classifier\n",
    "        - image: seldonio/fixed-model:0.2\n",
    "          name: classifier2\n",
    "    graph:\n",
    "      name: classifier\n",
    "      type: MODEL\n",
    "      children:\n",
    "      - name: classifier2\n",
    "        type: MODEL\n",
    "    name: a\n",
    "    replicas: 3\n",
    "    traffic: 50\n",
    "  - componentSpecs:\n",
    "    - spec:\n",
    "        containers:\n",
    "        - image: seldonio/fixed-model:0.1\n",
    "          name: classifier\n",
    "        - image: seldonio/fixed-model:0.1\n",
    "          name: classifier2\n",
    "    graph:\n",
    "      name: classifier\n",
    "      type: MODEL\n",
    "      children:\n",
    "      - name: classifier2\n",
    "        type: MODEL\n",
    "    name: b\n",
    "    replicas: 1\n",
    "    traffic: 50"
   ]
  },
  {
   "cell_type": "code",
   "execution_count": null,
   "metadata": {
    "id": "b932a2ec-a767-4689-b2d3-85414498eae5"
   },
   "outputs": [],
   "source": [
    "!kubectl apply -f resources/fixed_v2_2predictors.yaml"
   ]
  },
  {
   "cell_type": "markdown",
   "metadata": {},
   "source": [
    "And we can send requests to confirm that the rolling update is performed without interruptions"
   ]
  },
  {
   "cell_type": "code",
   "execution_count": null,
   "metadata": {
    "id": "13b618a3-6400-499d-8d4e-a2d868f93ad9"
   },
   "outputs": [],
   "source": [
    "time.sleep(5)  # To allow operator to start the update\n",
    "for i in range(120):\n",
    "    responseRaw = !curl -s -d '{\"data\": {\"ndarray\":[[1.0, 2.0, 5.0]]}}' -X POST http://localhost:8003/seldon/seldon/fixed/api/v1.0/predictions -H \"Content-Type: application/json\"\n",
    "    try:\n",
    "        response = json.loads(responseRaw[0])\n",
    "    except:\n",
    "        print(\"Failed to parse json\", responseRaw)\n",
    "        continue\n",
    "    assert response[\"data\"][\"ndarray\"][0] == 1 or response[\"data\"][\"ndarray\"][0] == 5\n",
    "    jsonRaw = !kubectl get deploy -l seldon-deployment-id=fixed -o json\n",
    "    data = \"\".join(jsonRaw)\n",
    "    resources = json.loads(data)\n",
    "    numReplicas = int(resources[\"items\"][0][\"status\"][\"replicas\"])\n",
    "    if numReplicas == 3:\n",
    "        break\n",
    "    time.sleep(1)\n",
    "print(\"Rollout Success\")"
   ]
  },
  {
   "cell_type": "code",
   "execution_count": null,
   "metadata": {
    "id": "19cba794-22d1-487a-86a1-b11b787dcc14"
   },
   "outputs": [],
   "source": [
    "!kubectl delete -f resources/fixed_v2_2predictors.yaml"
   ]
  },
  {
   "cell_type": "markdown",
   "metadata": {},
   "source": [
    "## Model name changes\n",
    "\n",
    "This will not do a rolling update but create a new deployment."
   ]
  },
  {
   "cell_type": "code",
   "execution_count": null,
   "metadata": {
    "id": "0778eb5b-8c72-4f29-9abf-a4a1d42ad8b3"
   },
   "outputs": [],
   "source": [
    "%%writefile resources/fixed_v1.yaml\n",
    "apiVersion: machinelearning.seldon.io/v1\n",
    "kind: SeldonDeployment\n",
    "metadata:\n",
    "  name: fixed\n",
    "spec:\n",
    "  name: fixed\n",
    "  protocol: seldon\n",
    "  transport: rest\n",
    "  predictors:\n",
    "  - componentSpecs:\n",
    "    - spec:\n",
    "        containers:\n",
    "        - image: seldonio/fixed-model:0.1\n",
    "          name: classifier\n",
    "    graph:\n",
    "      name: classifier\n",
    "      type: MODEL\n",
    "    name: default\n",
    "    replicas: 3"
   ]
  },
  {
   "cell_type": "code",
   "execution_count": null,
   "metadata": {
    "id": "2cfcc16e-1bcd-416e-9c7b-415fab91bc04"
   },
   "outputs": [],
   "source": [
    "!kubectl apply -f resources/fixed_v1.yaml"
   ]
  },
  {
   "cell_type": "markdown",
   "metadata": {},
   "source": [
    "We can wait until the pod is available."
   ]
  },
  {
   "cell_type": "code",
   "execution_count": null,
   "metadata": {
    "id": "5f143b32-869f-4515-bf19-f479444d37e5"
   },
   "outputs": [],
   "source": [
    "!kubectl rollout status deploy/$(kubectl get deploy -l seldon-deployment-id=fixed \\\n",
    "                                 -o jsonpath='{.items[0].metadata.name}')"
   ]
  },
  {
   "cell_type": "code",
   "execution_count": null,
   "metadata": {
    "id": "82498f6f-9955-4e5b-8507-816115078c89"
   },
   "outputs": [],
   "source": [
    "for i in range(60):\n",
    "    state = !kubectl get sdep fixed -o jsonpath='{.status.state}'\n",
    "    state = state[0]\n",
    "    print(state)\n",
    "    if state == \"Available\":\n",
    "        break\n",
    "    time.sleep(1)\n",
    "assert state == \"Available\""
   ]
  },
  {
   "cell_type": "code",
   "execution_count": null,
   "metadata": {
    "id": "159fd481-87b0-4353-ab9e-ef437f1ca12e"
   },
   "outputs": [],
   "source": [
    "!curl -d '{\"data\": {\"ndarray\":[[1.0, 2.0, 5.0]]}}' \\\n",
    "   -X POST http://localhost:8003/seldon/seldon/fixed/api/v1.0/predictions \\\n",
    "   -H \"Content-Type: application/json\""
   ]
  },
  {
   "cell_type": "markdown",
   "metadata": {},
   "source": [
    "Now when we apply the update, we should see the change taking place, but there should not be an actual full rolling update triggered."
   ]
  },
  {
   "cell_type": "code",
   "execution_count": null,
   "metadata": {
    "id": "7fc84617-efd7-4566-b5b9-db7cb7ccc811"
   },
   "outputs": [],
   "source": [
    "%%writefile resources/fixed_v2_new_name.yaml\n",
    "apiVersion: machinelearning.seldon.io/v1\n",
    "kind: SeldonDeployment\n",
    "metadata:\n",
    "  name: fixed\n",
    "spec:\n",
    "  name: fixed\n",
    "  protocol: seldon\n",
    "  transport: rest\n",
    "  predictors:\n",
    "  - componentSpecs:\n",
    "    - spec:\n",
    "        containers:\n",
    "        - image: seldonio/fixed-model:0.2\n",
    "          name: classifier2\n",
    "    graph:\n",
    "      name: classifier2\n",
    "      type: MODEL\n",
    "    name: default\n",
    "    replicas: 3"
   ]
  },
  {
   "cell_type": "code",
   "execution_count": null,
   "metadata": {
    "id": "b92ed367-c8fc-4cdd-946b-55dd1ab9d3f5"
   },
   "outputs": [],
   "source": [
    "!kubectl apply -f resources/fixed_v2_new_name.yaml"
   ]
  },
  {
   "cell_type": "code",
   "execution_count": null,
   "metadata": {
    "id": "13bfcb3e-f623-4ed0-b92e-c890d5bb62d5"
   },
   "outputs": [],
   "source": [
    "time.sleep(5)\n",
    "for i in range(120):\n",
    "    responseRaw = !curl -s -d '{\"data\": {\"ndarray\":[[1.0, 2.0, 5.0]]}}' -X POST http://localhost:8003/seldon/seldon/fixed/api/v1.0/predictions -H \"Content-Type: application/json\"\n",
    "    try:\n",
    "        response = json.loads(responseRaw[0])\n",
    "    except:\n",
    "        print(\"Failed to parse json\", responseRaw)\n",
    "        continue\n",
    "    assert response[\"data\"][\"ndarray\"][0] == 1 or response[\"data\"][\"ndarray\"][0] == 5\n",
    "    jsonRaw = !kubectl get deploy -l seldon-deployment-id=fixed -o json\n",
    "    data = \"\".join(jsonRaw)\n",
    "    resources = json.loads(data)\n",
    "    numItems = len(resources[\"items\"])\n",
    "    if numItems == 1:\n",
    "        break\n",
    "    time.sleep(1)\n",
    "print(\"Rollout Success\")"
   ]
  },
  {
   "cell_type": "code",
   "execution_count": null,
   "metadata": {
    "id": "d871880b-7922-4b25-aa7e-fd94677f56f2"
   },
   "outputs": [],
   "source": [
    "!kubectl delete -f resources/fixed_v2_new_name.yaml"
   ]
  },
  {
   "cell_type": "code",
   "execution_count": null,
   "metadata": {
    "id": "c098d4f4-c398-46e7-8edd-221873ce72bb"
   },
   "outputs": [],
   "source": []
  }
 ],
 "metadata": {
  "kernelspec": {
   "display_name": "Python 3",
   "language": "python",
   "name": "python3"
  },
  "language_info": {
   "codemirror_mode": {
    "name": "ipython",
    "version": 3
   },
   "file_extension": ".py",
   "mimetype": "text/x-python",
   "name": "python",
   "nbconvert_exporter": "python",
   "pygments_lexer": "ipython3",
   "version": "3.6.8"
  }
 },
 "nbformat": 4,
 "nbformat_minor": 2
}
