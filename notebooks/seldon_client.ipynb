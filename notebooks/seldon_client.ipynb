{
 "cells": [
  {
   "cell_type": "markdown",
   "metadata": {},
   "source": [
    "# Advanced Usage Exampes for Seldon Client"
   ]
  },
  {
   "cell_type": "markdown",
   "metadata": {},
   "source": [
    "## Istio Gateway Request with token over HTTPS - no SSL verification\n",
    "\n",
    "Test against a current kubeflow cluster with Dex token authentication.\n",
    "\n",
    " 1. Install kubeflow with Dex authentication"
   ]
  },
  {
   "cell_type": "code",
   "execution_count": null,
   "metadata": {
    "id": "727acb66-3491-4252-b978-f34c006c11ec"
   },
   "outputs": [],
   "source": [
    "INGRESS_HOST = !kubectl -n istio-system get service istio-ingressgateway -o jsonpath='{.status.loadBalancer.ingress[0].ip}'\n",
    "ISTIO_GATEWAY = INGRESS_HOST[0]"
   ]
  },
  {
   "cell_type": "code",
   "execution_count": null,
   "metadata": {
    "id": "c451ac86-a56d-434d-874a-316f782404ad"
   },
   "outputs": [],
   "source": [
    "ISTIO_GATEWAY"
   ]
  },
  {
   "cell_type": "markdown",
   "metadata": {},
   "source": [
    "Get a token from the Dex gateway. At present as Dex does not support curl password credentials you will need to get it from your browser logged into the cluster. Open up a browser console and run `document.cookie`"
   ]
  },
  {
   "cell_type": "code",
   "execution_count": null,
   "metadata": {
    "id": "e646b5cb-3ecc-4ddb-97a0-4e867c4ccc25"
   },
   "outputs": [],
   "source": [
    "TOKEN = \"eyJhbGciOiJIUzUxMiIsInR5cCI6IkpXVCJ9.eyJleHAiOjE1NjM2MjA0ODYsImlhdCI6MTU2MzUzNDA4NiwiaXNzIjoiMzQuNjUuNzMuMjU1IiwianRpIjoiYjllNDQxOGQtZjNmNC00NTIyLTg5ODEtNDcxOTY0ODNmODg3IiwidWlmIjoiZXlKcGMzTWlPaUpvZEhSd2N6b3ZMek0wTGpZMUxqY3pMakkxTlRvMU5UVTJMMlJsZUNJc0luTjFZaUk2SWtOcFVYZFBSMFUwVG1wbk1GbHBNV3RaYW1jMFRGUlNhVTU2VFhSUFZFSm9UMU13ZWxreVVYaE9hbGw0V21wVk1FNXFXVk5DVjNoMldUSkdjeUlzSW1GMVpDSTZJbXQxWW1WbWJHOTNMV0YxZEdoelpYSjJhV05sTFc5cFpHTWlMQ0psZUhBaU9qRTFOak0yTWpBME9EWXNJbWxoZENJNk1UVTJNelV6TkRBNE5pd2lZWFJmYUdGemFDSTZJbE5OWlZWRGJUQmFOVkZoUTNCdVNHTndRMWgwTVZFaUxDSmxiV0ZwYkNJNkltRmtiV2x1UUhObGJHUnZiaTVwYnlJc0ltVnRZV2xzWDNabGNtbG1hV1ZrSWpwMGNuVmxMQ0p1WVcxbElqb2lZV1J0YVc0aWZRPT0ifQ.7CQIz4A1s9m6lJeWTqpz_JKGArGX4e_zpRCOXXjVRJgguB3z48rSfei_KL7niMCWpruhU11c8UIw9E79PwHNNw\""
   ]
  },
  {
   "cell_type": "markdown",
   "metadata": {},
   "source": [
    "## Start Seldon Core\n",
    "\n",
    "Use the setup notebook to [Install Seldon Core](https://docs.seldon.io/projects/seldon-core/en/latest/examples/seldon_core_setup.html#Install-Seldon-Core) with [Istio Ingress](https://docs.seldon.io/projects/seldon-core/en/latest/examples/seldon_core_setup.html#Istio). Instructions [also online](https://docs.seldon.io/projects/seldon-core/en/latest/examples/seldon_core_setup.html).\n",
    "\n",
    "**Note** When running helm install for this example you will need to set the istio.gateway flag to kubeflow-gateway (```--set istio.gateway=kubeflow-gateway```)."
   ]
  },
  {
   "cell_type": "code",
   "execution_count": null,
   "metadata": {
    "id": "0cc8d4dd-01cf-4efa-8b45-71e9ae67b7d7"
   },
   "outputs": [],
   "source": [
    "deployment_name = \"test1\"\n",
    "namespace = \"default\""
   ]
  },
  {
   "cell_type": "code",
   "execution_count": null,
   "metadata": {
    "id": "cab72d27-facb-444a-930f-492eb19d9d4f"
   },
   "outputs": [],
   "source": [
    "from seldon_core.seldon_client import (\n",
    "    SeldonCallCredentials,\n",
    "    SeldonChannelCredentials,\n",
    "    SeldonClient,\n",
    ")\n",
    "\n",
    "sc = SeldonClient(\n",
    "    deployment_name=deployment_name,\n",
    "    namespace=namespace,\n",
    "    gateway_endpoint=ISTIO_GATEWAY,\n",
    "    debug=True,\n",
    "    channel_credentials=SeldonChannelCredentials(verify=False),\n",
    "    call_credentials=SeldonCallCredentials(token=TOKEN),\n",
    ")"
   ]
  },
  {
   "cell_type": "code",
   "execution_count": null,
   "metadata": {
    "id": "331f609b-38c2-4b69-a88f-74a5f4e4dac4"
   },
   "outputs": [],
   "source": [
    "r = sc.predict(gateway=\"istio\", transport=\"rest\", shape=(1, 4))\n",
    "print(r)"
   ]
  },
  {
   "cell_type": "markdown",
   "metadata": {},
   "source": [
    "Its not presently possible to use gRPC without getting access to the certificates. We will update this once its clear how to obtain them from a Kubeflow cluser setup."
   ]
  },
  {
   "cell_type": "markdown",
   "metadata": {},
   "source": [
    "## Istio - SSL Endpoint - Client Side Verification - No Authentication\n",
    "\n",
    "  1. First run through the [Istio Secure Gateway SDS example](https://istio.io/docs/tasks/traffic-management/ingress/secure-ingress-sds/) and make sure this works for you.\n",
    "     * This will create certificates for `httpbin.example.com` and test them out.\n",
    "  1. Update your `/etc/hosts` file to include an entry for the ingress gateway for `httpbin.example.com` e.g. add a line like: `10.107.247.132  httpbin.example.com` replacing the ip address with your ingress gateway ip address."
   ]
  },
  {
   "cell_type": "code",
   "execution_count": null,
   "metadata": {
    "id": "4f51ef9d-fabe-4593-8517-b7a5ebb0bb2f"
   },
   "outputs": [],
   "source": [
    "# Set to folder where the httpbin certificates are\n",
    "ISTIO_HTTPBIN_CERT_FOLDER = \"/home/clive/work/istio/httpbin.example.com\""
   ]
  },
  {
   "cell_type": "markdown",
   "metadata": {},
   "source": [
    "## Start Seldon Core\n",
    "\n",
    "Use the setup notebook to [Install Seldon Core](https://docs.seldon.io/projects/seldon-core/en/latest/examples/seldon_core_setup.html#Install-Seldon-Core) with [Istio Ingress](https://docs.seldon.io/projects/seldon-core/en/latest/examples/seldon_core_setup.html#Istio). Instructions [also online](https://docs.seldon.io/projects/seldon-core/en/latest/examples/seldon_core_setup.html).\n",
    "\n",
    "**Note** When running ```helm install``` for this example you will need to set the ```istio.gateway``` flag to ```mygateway``` (```--set istio.gateway=mygateway```) used in the example."
   ]
  },
  {
   "cell_type": "code",
   "execution_count": null,
   "metadata": {
    "id": "a1c5afb6-ba3d-400a-a8bf-bdf115564b2c"
   },
   "outputs": [],
   "source": [
    "deployment_name = \"mymodel\"\n",
    "namespace = \"default\""
   ]
  },
  {
   "cell_type": "code",
   "execution_count": null,
   "metadata": {
    "id": "d11ad09e-499f-4c76-8965-1b1c26798946"
   },
   "outputs": [],
   "source": [
    "from seldon_core.seldon_client import (\n",
    "    SeldonCallCredentials,\n",
    "    SeldonChannelCredentials,\n",
    "    SeldonClient,\n",
    ")\n",
    "\n",
    "sc = SeldonClient(\n",
    "    deployment_name=deployment_name,\n",
    "    namespace=namespace,\n",
    "    gateway_endpoint=\"httpbin.example.com\",\n",
    "    debug=True,\n",
    "    channel_credentials=SeldonChannelCredentials(\n",
    "        certificate_chain_file=ISTIO_HTTPBIN_CERT_FOLDER\n",
    "        + \"/2_intermediate/certs/ca-chain.cert.pem\",\n",
    "        root_certificates_file=ISTIO_HTTPBIN_CERT_FOLDER\n",
    "        + \"/4_client/certs/httpbin.example.com.cert.pem\",\n",
    "        private_key_file=ISTIO_HTTPBIN_CERT_FOLDER\n",
    "        + \"/4_client/private/httpbin.example.com.key.pem\",\n",
    "    ),\n",
    ")"
   ]
  },
  {
   "cell_type": "code",
   "execution_count": null,
   "metadata": {
    "id": "c1449e50-06cb-4f9f-8589-1c77331714fe"
   },
   "outputs": [],
   "source": [
    "r = sc.predict(gateway=\"istio\", transport=\"rest\", shape=(1, 4))\n",
    "print(r)"
   ]
  },
  {
   "cell_type": "code",
   "execution_count": null,
   "metadata": {
    "id": "60c5c2df-b720-485a-b559-98458b97221f"
   },
   "outputs": [],
   "source": [
    "r = sc.predict(gateway=\"istio\", transport=\"grpc\", shape=(1, 4))\n",
    "print(r)"
   ]
  }
 ],
 "metadata": {
  "kernelspec": {
   "display_name": "Python 3",
   "language": "python",
   "name": "python3"
  },
  "language_info": {
   "codemirror_mode": {
    "name": "ipython",
    "version": 3
   },
   "file_extension": ".py",
   "mimetype": "text/x-python",
   "name": "python",
   "nbconvert_exporter": "python",
   "pygments_lexer": "ipython3",
   "version": "3.7.4"
  }
 },
 "nbformat": 4,
 "nbformat_minor": 2
}
