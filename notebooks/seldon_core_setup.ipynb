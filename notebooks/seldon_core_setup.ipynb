{
 "cells": [
  {
   "cell_type": "markdown",
   "metadata": {},
   "source": [
    "# Seldon Core Setup"
   ]
  },
  {
   "cell_type": "markdown",
   "metadata": {},
   "source": [
    "## Prerequisites\n",
    "\n",
    "You will need\n",
    " - [Git clone of Seldon Core](https://github.com/SeldonIO/seldon-core)\n",
    " - [A running Kubernetes cluster with kubectl authenticated](https://kubernetes.io/docs/setup/)\n",
    " - [seldon-core Python package](https://pypi.org/project/seldon-core/) (```pip install seldon-core>=0.2.6.1```)\n",
    " - [Helm client](https://helm.sh/)"
   ]
  },
  {
   "cell_type": "markdown",
   "metadata": {},
   "source": [
    "## Setup Cluster"
   ]
  },
  {
   "cell_type": "code",
   "execution_count": null,
   "metadata": {
    "id": "35e2b69f-5243-48b6-9953-cb87ee542b43"
   },
   "outputs": [],
   "source": [
    "!kubectl create namespace seldon"
   ]
  },
  {
   "cell_type": "code",
   "execution_count": null,
   "metadata": {
    "id": "9284ef7a-0af5-492f-867b-4f41aa2f9e42",
    "scrolled": true
   },
   "outputs": [],
   "source": [
    "!kubectl config set-context $(kubectl config current-context) --namespace=seldon"
   ]
  },
  {
   "cell_type": "markdown",
   "metadata": {},
   "source": [
    "## Install Seldon Core\n",
    "\n",
    "Follow the [Seldon Core Install documentation](https://docs.seldon.io/projects/seldon-core/en/latest/workflow/install.html)."
   ]
  },
  {
   "cell_type": "code",
   "execution_count": null,
   "metadata": {
    "id": "d63fa144-69d3-4207-9a55-062586d8f12e"
   },
   "outputs": [],
   "source": [
    "!kubectl create namespace seldon-system"
   ]
  },
  {
   "cell_type": "markdown",
   "metadata": {},
   "source": [
    "### If using Ambassador:"
   ]
  },
  {
   "cell_type": "code",
   "execution_count": null,
   "metadata": {
    "id": "37544c5e-b26f-42dc-a980-0d6703ef57d5"
   },
   "outputs": [],
   "source": [
    "!helm install seldon-core seldon-core-operator --repo https://storage.googleapis.com/seldon-charts --set ambassador.enabled=true --set usageMetrics.enabled=true --namespace seldon-system"
   ]
  },
  {
   "cell_type": "markdown",
   "metadata": {},
   "source": [
    "### If using Istio:"
   ]
  },
  {
   "cell_type": "code",
   "execution_count": null,
   "metadata": {
    "id": "afdb5bd4-c444-4eb0-8565-e21ad85f1095"
   },
   "outputs": [],
   "source": [
    "!helm install seldon-core seldon-core-operator --repo https://storage.googleapis.com/seldon-charts --set istio.enabled=true --set usageMetrics.enabled=true --namespace seldon-system"
   ]
  },
  {
   "cell_type": "markdown",
   "metadata": {},
   "source": [
    "Check all services are running before proceeding."
   ]
  },
  {
   "cell_type": "markdown",
   "metadata": {},
   "source": [
    "### Wait for rollout to finish"
   ]
  },
  {
   "cell_type": "code",
   "execution_count": null,
   "metadata": {
    "id": "48bacfc4-5101-4999-af08-073de06ebcc2"
   },
   "outputs": [],
   "source": [
    "!kubectl rollout status deploy/seldon-controller-manager -n seldon-system"
   ]
  },
  {
   "cell_type": "markdown",
   "metadata": {},
   "source": [
    "## Install Ingress\n",
    "\n",
    "### Ambassador\n",
    "\n",
    "[Ambassador install](https://docs.seldon.io/projects/seldon-core/en/latest/workflow/install.html#install-ambassador)\n",
    "\n",
    "Ambassador Edge Stack:"
   ]
  },
  {
   "cell_type": "code",
   "execution_count": null,
   "metadata": {
    "id": "839660c5-17d2-4da8-b2e8-28199e078da0"
   },
   "outputs": [],
   "source": [
    "!helm repo add datawire https://www.getambassador.io"
   ]
  },
  {
   "cell_type": "code",
   "execution_count": null,
   "metadata": {
    "id": "f4fbe76e-6a18-4cc9-937a-031198b80158"
   },
   "outputs": [],
   "source": [
    "!helm repo update"
   ]
  },
  {
   "cell_type": "code",
   "execution_count": null,
   "metadata": {
    "id": "082e47a9-fd34-4edb-b801-b35a33fe39a9"
   },
   "outputs": [],
   "source": [
    "!helm install ambassador datawire/ambassador \\\n",
    "    --set image.repository=docker.io/datawire/ambassador \\\n",
    "    --set crds.keep=false \\\n",
    "    --namespace seldon-system"
   ]
  },
  {
   "cell_type": "markdown",
   "metadata": {},
   "source": [
    "Ambassador API Gateway (Emissary Ingress):"
   ]
  },
  {
   "cell_type": "code",
   "execution_count": null,
   "metadata": {
    "id": "488dd121-ea5e-49d3-b32c-444e75e2bd5f"
   },
   "outputs": [],
   "source": [
    "!helm repo add datawire https://www.getambassador.io"
   ]
  },
  {
   "cell_type": "code",
   "execution_count": null,
   "metadata": {
    "id": "007fc5ee-b9d9-4fb4-9af3-4b098c2ffe87"
   },
   "outputs": [],
   "source": [
    "!helm repo update"
   ]
  },
  {
   "cell_type": "code",
   "execution_count": null,
   "metadata": {
    "id": "20e9dc72-f52f-4ea6-ab6a-837bbc184dd0"
   },
   "outputs": [],
   "source": [
    "!helm install ambassador datawire/ambassador \\\n",
    "    --set image.repository=docker.io/datawire/ambassador \\\n",
    "    --set crds.keep=false \\\n",
    "    --set enableAES=false \\\n",
    "    --namespace seldon-system"
   ]
  },
  {
   "cell_type": "markdown",
   "metadata": {},
   "source": [
    "Check all services are running before proceeding."
   ]
  },
  {
   "cell_type": "code",
   "execution_count": null,
   "metadata": {
    "id": "2dc2cebb-57ff-48c4-adc5-8aae2e077cd3"
   },
   "outputs": [],
   "source": [
    "!kubectl rollout status deployment.apps/ambassador"
   ]
  },
  {
   "cell_type": "markdown",
   "metadata": {},
   "source": [
    "For Ambassador Edge Stack:"
   ]
  },
  {
   "cell_type": "markdown",
   "metadata": {},
   "source": [
    "**Note:** Absent configuration, Ambassador Edge Stack will attempt to use TLS with a self-signed cert.  Either [set up TLS](https://www.getambassador.io/docs/edge-stack/latest/howtos/tls-termination/) or ignore certificate validation (i.e. `curl -k`)."
   ]
  },
  {
   "cell_type": "code",
   "execution_count": null,
   "metadata": {
    "id": "3f9198d6-8acf-43ea-8121-bfc6c24b2a9a"
   },
   "outputs": [],
   "source": [
    "!kubectl port-forward $(kubectl get pods -n seldon-system -l app.kubernetes.io/name=ambassador -o jsonpath='{.items[0].metadata.name}') -n seldon-system 8003:8443"
   ]
  },
  {
   "cell_type": "markdown",
   "metadata": {},
   "source": [
    "For Ambassador API Gateway:"
   ]
  },
  {
   "cell_type": "code",
   "execution_count": null,
   "metadata": {
    "id": "44d9e827-f38c-4115-99ba-3375dd7c548c"
   },
   "outputs": [],
   "source": [
    "!kubectl port-forward $(kubectl get pods -n seldon-system -l app.kubernetes.io/name=ambassador -o jsonpath='{.items[0].metadata.name}') -n seldon-system 8003:8080"
   ]
  },
  {
   "cell_type": "markdown",
   "metadata": {},
   "source": [
    "*or*\n",
    "\n",
    "### Istio\n",
    "\n",
    "[Istio install](https://docs.seldon.io/projects/seldon-core/en/latest/workflow/install.html#ingress-support)\n",
    "\n",
    "**Note:** Remember to add ```--set istio.enabled=true``` flag when installing Seldon Core with Istio Ingress."
   ]
  }
 ],
 "metadata": {
  "kernelspec": {
   "display_name": "Python 3 (ipykernel)",
   "language": "python",
   "name": "python3"
  },
  "language_info": {
   "codemirror_mode": {
    "name": "ipython",
    "version": 3
   },
   "file_extension": ".py",
   "mimetype": "text/x-python",
   "name": "python",
   "nbconvert_exporter": "python",
   "pygments_lexer": "ipython3",
   "version": "3.7.10"
  },
  "metadata": {
   "interpreter": {
    "hash": "1d7f5a1859618f76ef4cef58ee850bddcfabb7d38d6aca091ca78ca6bd037618"
   }
  }
 },
 "nbformat": 4,
 "nbformat_minor": 4
}
